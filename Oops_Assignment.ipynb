{
  "nbformat": 4,
  "nbformat_minor": 0,
  "metadata": {
    "colab": {
      "provenance": []
    },
    "kernelspec": {
      "name": "python3",
      "display_name": "Python 3"
    },
    "language_info": {
      "name": "python"
    }
  },
  "cells": [
    {
      "cell_type": "code",
      "execution_count": null,
      "metadata": {
        "id": "kRb_FOsEDMeI"
      },
      "outputs": [],
      "source": []
    },
    {
      "cell_type": "markdown",
      "source": [
        "# Oops\n",
        "\n",
        "1. What is Object-Oriented Programming (OOP)?\n",
        "\n",
        "   -> Object-Oriented Programming (OOP) is a programming paradigm that organizes software design around objects (data structures containing both data and methods) rather than functions and logic, promoting modularity, reusability, and maintainability.\n",
        "\n",
        "2. What is a class in OOP?\n",
        "\n",
        "   -> In Object-Oriented Programming (OOP), a class is a blueprint or template for creating objects. It defines the structure and behavior of objects, specifying their attributes (data) and methods (functions). Classes enable code reuse, modularity, and organization, making complex systems easier to manage.\n",
        "\n",
        "3. What is an object in OOP?\n",
        "\n",
        "   -> In object-oriented programming (OOP), an object is a fundamental unit that encapsulates data (attributes or properties) and the actions (methods or behaviors) that can be performed on that data, representing a real-world entity or concept.\n",
        "\n",
        "4. What is the difference between abstraction and encapsulation?\n",
        "\n",
        "   -> In object-oriented programming, abstraction focuses on simplifying complex systems by hiding implementation details and exposing only essential features, while encapsulation bundles data and methods within a class, controlling access to ensure data protection and maintainability.\n",
        "\n",
        "5.  What are dunder methods in Python?\n",
        "   \n",
        "   -> Dunder methods, also known as magic methods, are special methods in Python that begin and end with double underscores (e.g., __init__, __str__, __len__). They provide a way to implement operator overloading and customize the behavior of classes. These methods are automatically called by the Python interpreter in response to certain operations or events.\n",
        "\n",
        "6.  Explain the concept of inheritance in OOP?\n",
        "\n",
        "   -> In Object-Oriented Programming (OOP), inheritance is a mechanism where a new class (derived or child class) inherits properties and methods from an existing class (base or parent class), promoting code reuse and hierarchical relationships.\n",
        "\n",
        "7. What is polymorphism in OOP?\n",
        "\n",
        "  -> In object-oriented programming (OOP), polymorphism, meaning \"many forms,\" allows objects of different classes to be treated as objects of a common superclass, enabling flexibility and code reusability by allowing multiple classes to implement the same method in different ways.\n",
        "\n",
        "8.  How is encapsulation achieved in Python?\n",
        "\n",
        "  -> Encapsulation in Python is achieved through access modifiers and naming conventions, which control the visibility and accessibility of class members (attributes and methods). While Python doesn't have strict access control like some other languages (e.g., Java's private), it uses conventions to indicate the intended scope of members.\n",
        "\n",
        "9. What is a constructor in Python?\n",
        "\n",
        "  -> In Python, a constructor is a special method used to initialize objects of a class. It is automatically called when an object is created. The constructor's primary purpose is to set up the initial state of an object by assigning values to its attributes. In Python, the constructor is named __init__.\n",
        "\n",
        "10. What are class and static methods in Python?\n",
        "\n",
        "  -> In Python, class methods are bound to the class itself (not instances) and can access class attributes, while static methods are functions within a class that don't have access to either class or instance data, serving as utility functions.\n",
        "\n",
        "11. What is method overloading in Python?\n",
        "\n",
        "  -> Method overloading in Python refers to the ability to define multiple methods in a class with the same name but with different parameters. However, Python does not support method overloading in the traditional sense like some other languages such as Java or C++.\n",
        "\n",
        "12. What is method overriding in OOP?\n",
        "\n",
        "  -> In Object-Oriented Programming (OOP), method overriding allows a subclass to provide a specific implementation for a method that is already defined in its superclass, enabling specialized behavior while maintaining the same method signature.\n",
        "\n",
        "13. What is a property decorator in Python?\n",
        "\n",
        "  -> In Python, a property decorator is a built-in feature that allows methods to be accessed like attributes. It provides a way to encapsulate the logic for getting, setting, and deleting an attribute within a class, while still allowing access to it using the dot notation. This mechanism enables controlled access and modification of class attributes, promoting better code organization and data integrity.\n",
        "\n",
        "14. Why is polymorphism important in OOP?\n",
        "\n",
        "  -> Polymorphism is crucial in Object-Oriented Programming (OOP) because it enables code reusability, flexibility, and maintainability by allowing objects of different classes to be treated as objects of a common type, promoting adaptable and modular software systems.\n",
        "\n",
        "15. What is an abstract class in Python?\n",
        "  \n",
        "  -> An abstract class in Python is a class that cannot be instantiated directly and serves as a blueprint for other classes. It defines methods that subclasses must implement, ensuring a consistent interface. Abstract classes are created using the abc module and the ABC class as a metaclass. Abstract methods within an abstract class are declared using the @abstractmethod decorator and do not have an implementation in the abstract class itself. Subclasses are then required to provide concrete implementations for these abstract methods.\n",
        "\n",
        "16. What are the advantages of OOP?\n",
        "\n",
        "  -> Object-Oriented Programming (OOP) offers advantages like improved code organization through encapsulation, reusability via inheritance, and flexibility with polymorphism, simplifying complex systems and promoting modular, maintainable, and scalable software solutions.\n",
        "\n",
        "17. What is the difference between a class variable and an instance variable?\n",
        "\n",
        "  -> Class variables are useful for storing data that is shared among all instances of a class, such as constants or default values. Instance variables are used to store data that is unique to each instance of a class, such as object properties.\n",
        "\n",
        "18. What is multiple inheritance in Python?\n",
        "\n",
        "  -> Multiple inheritance in Python is a feature that allows a class to inherit attributes and methods from more than one parent class. This means a class can combine behaviors and characteristics from multiple sources, creating a more versatile and feature-rich class.\n",
        "\n",
        "19. Explain the purpose of ‘’__str__’ and ‘__repr__’ ‘ methods in Python?\n",
        "\n",
        "  -> __str__(self): This method returns a user-friendly, informal string representation of an object. It's called by the str() built-in function and implicitly used by the print() function. The goal of __str__ is to provide a readable output for end-users. If __str__ is not defined, Python falls back to using __repr__.\n",
        "\n",
        "  -> __repr__(self): This method returns a more detailed, unambiguous string representation of an object, primarily intended for developers and debugging. It's called by the repr() built-in function. Ideally, the string returned by __repr__ should be able to recreate the object when passed to eval(), although this isn't always feasible or necessary. If __repr__ is defined and __str__ is not, __repr__ will be used for both str() and repr() calls.\n",
        "\n",
        "20. What is the significance of the ‘super()’ function in Python?\n",
        "\n",
        "  -> The super() function in Python is used to call methods from a parent class in a subclass. It provides a way to access and utilize inherited methods, promoting code reuse and maintainability, especially in complex inheritance hierarchies.\n",
        "\n",
        "21. What is the significance of the __del__ method in Python?\n",
        "  \n",
        "  -> The __del__ method, also known as a destructor, in Python is called when an object is about to be destroyed. It provides a last opportunity for the object to perform cleanup actions, such as releasing resources or closing files. However, relying heavily on __del__ is generally discouraged due to its unpredictable timing and potential issues.\n",
        "\n",
        "22. What is the difference between @staticmethod and @classmethod in Python?\n",
        "\n",
        "  -> @staticmethod:\n",
        "This decorator defines a method that is independent of the class and its instances. It behaves like a regular function, but it's logically grouped within the class. Static methods don't receive the implicit first argument (self or cls). They cannot access or modify the class or instance state.\n",
        "\n",
        "  -> @classmethod:\n",
        "This decorator defines a method that receives the class itself as the first argument (cls). Class methods can access and modify class-level attributes but cannot directly access instance-specific attributes.\n",
        "\n",
        "23.  How does polymorphism work in Python with inheritance?\n",
        "\n",
        "  -> Polymorphism in Python, in the context of inheritance, enables objects of different classes to respond to the same method call in their own specific ways. This is achieved through method overriding, where a subclass provides its own implementation of a method that is already defined in its parent class.\n",
        "\n",
        "24. What is method chaining in Python OOP?\n",
        "\n",
        "  -> Method chaining in Python is a programming technique used in object-oriented programming where multiple methods are called sequentially on the same object in a single line of code. This is achieved by having each method in the chain return the object itself (self) after performing its operation. This allows for a more concise and readable way to perform a sequence of actions on an object.\n",
        "\n",
        "25.  What is the purpose of the __call__ method in Python?\n",
        "\n",
        "  -> The __call__ method in Python enables instances of a class to be called like regular functions. When a class defines the __call__ method, its instances become callable objects. This means you can use parentheses to \"call\" the instance, triggering the execution of the code within the __call__ method.\n",
        "  \n"
      ],
      "metadata": {
        "id": "hT5CoNhsDVaX"
      }
    },
    {
      "cell_type": "code",
      "source": [
        "# Create a parent class Animal with a method speak() that prints a generic message. Create a child class Dog that overrides the speak() method to print \"Bark!\".\n",
        "\n",
        "class Animal:\n",
        "    def speak(self):\n",
        "        print(\"Generic animal sound\")\n",
        "\n",
        "class Dog(Animal):\n",
        "    def speak(self):\n",
        "        print(\"Bark!\")\n",
        "animal = Animal()\n",
        "animal.speak()\n",
        "\n",
        "dog = Dog()\n",
        "dog.speak()\n"
      ],
      "metadata": {
        "colab": {
          "base_uri": "https://localhost:8080/"
        },
        "id": "8QQyoEULLkom",
        "outputId": "ab8226e6-e5e8-4334-cdf1-b80d8ce3fa4e"
      },
      "execution_count": 2,
      "outputs": [
        {
          "output_type": "stream",
          "name": "stdout",
          "text": [
            "Generic animal sound\n",
            "Bark!\n"
          ]
        }
      ]
    },
    {
      "cell_type": "code",
      "source": [
        "# Write a program to create an abstract class Shape with a method area(). Derive classes Circle and Rectangle from it and implement the area() method in both.\n",
        "from abc import ABC, abstractmethod\n",
        "import math\n",
        "class Shape(ABC):\n",
        "\n",
        "    @abstractmethod\n",
        "    def area(self):\n",
        "        pass\n",
        "class Circle(Shape):\n",
        "    def __init__(self, radius):\n",
        "        self.radius = radius\n",
        "\n",
        "    def area(self):\n",
        "        return math.pi * self.radius ** 2\n",
        "class Rectangle(Shape):\n",
        "    def __init__(self, width, height):\n",
        "        self.width = width\n",
        "        self.height = height\n",
        "\n",
        "    def area(self):\n",
        "        return self.width * self.height\n",
        "circle = Circle(5)\n",
        "rectangle = Rectangle(4, 6)\n",
        "\n",
        "print(\"Area of circle:\", circle.area())\n",
        "print(\"Area of rectangle:\", rectangle.area())\n"
      ],
      "metadata": {
        "colab": {
          "base_uri": "https://localhost:8080/"
        },
        "id": "Wl83r9FSMbdG",
        "outputId": "78d7f9e6-7529-4eb2-8e78-ee61fdc1d629"
      },
      "execution_count": 4,
      "outputs": [
        {
          "output_type": "stream",
          "name": "stdout",
          "text": [
            "Area of circle: 78.53981633974483\n",
            "Area of rectangle: 24\n"
          ]
        }
      ]
    },
    {
      "cell_type": "code",
      "source": [
        "# Implement a multi-level inheritance scenario where a class Vehicle has an attribute type. Derive a class Car and further derive a class ElectricCar that adds a battery attribute.\n",
        "\n",
        "class Vehicle:\n",
        "  def __init__(self, type):\n",
        "    self.type = type\n",
        "\n",
        "class Car(Vehicle):\n",
        "  def __init__(self, type, model):\n",
        "    super().__init__(type)\n",
        "    self.model = model\n",
        "\n",
        "class ElectricCar(Car):\n",
        "  def __init__(self, type, model, battery):\n",
        "    super().__init__(type, model)\n",
        "    self.battery = battery\n",
        "my_electric_car = ElectricCar(\"car\", \"Tesla Model S\", \"100kWh\")\n",
        "print(my_electric_car.type)\n",
        "print(my_electric_car.model)\n",
        "print(my_electric_car.battery)"
      ],
      "metadata": {
        "colab": {
          "base_uri": "https://localhost:8080/"
        },
        "id": "6jn8pSHdNTdo",
        "outputId": "019a3169-788f-48cf-d339-8dd57af95e1b"
      },
      "execution_count": 5,
      "outputs": [
        {
          "output_type": "stream",
          "name": "stdout",
          "text": [
            "car\n",
            "Tesla Model S\n",
            "100kWh\n"
          ]
        }
      ]
    },
    {
      "cell_type": "code",
      "source": [
        "# Demonstrate polymorphism by creating a base class Bird with a method fly(). Create two derived classes Sparrow and Penguin that override the fly() method.\n",
        "\n",
        "\n",
        "class Bird:\n",
        "    def fly(self):\n",
        "        print(\"Bird is flying...\")\n",
        "class Sparrow(Bird):\n",
        "    def fly(self):\n",
        "        print(\"Sparrow flies high in the sky!\")\n",
        "class Penguin(Bird):\n",
        "    def fly(self):\n",
        "        print(\"Penguins can't fly, they waddle and swim!\")\n",
        "def bird_flight(bird):\n",
        "    bird.fly()\n",
        "sparrow = Sparrow()\n",
        "penguin = Penguin()\n",
        "bird_flight(sparrow)\n",
        "bird_flight(penguin)\n"
      ],
      "metadata": {
        "colab": {
          "base_uri": "https://localhost:8080/"
        },
        "id": "2gdb4581NxFy",
        "outputId": "894641a4-8d9b-4b5c-d916-cb5a4b4ea388"
      },
      "execution_count": 7,
      "outputs": [
        {
          "output_type": "stream",
          "name": "stdout",
          "text": [
            "Sparrow flies high in the sky!\n",
            "Penguins can't fly, they waddle and swim!\n"
          ]
        }
      ]
    },
    {
      "cell_type": "code",
      "source": [
        " # Write a program to demonstrate encapsulation by creating a class BankAccount with private attributes balance and methods to deposit, withdraw, and check balance.\n",
        " class BankAccount:\n",
        "    def __init__(self, initial_balance=0):\n",
        "        self.__balance = initial_balance\n",
        "    def deposit(self, amount):\n",
        "        if amount > 0:\n",
        "            self.__balance += amount\n",
        "            print(f\"Deposited: ${amount}\")\n",
        "        else:\n",
        "            print(\"Invalid deposit amount.\")\n",
        "    def withdraw(self, amount):\n",
        "        if 0 < amount <= self.__balance:\n",
        "            self.__balance -= amount\n",
        "            print(f\"Withdrawn: ${amount}\")\n",
        "        else:\n",
        "            print(\"Insufficient balance or invalid amount.\")\n",
        "    def check_balance(self):\n",
        "        print(f\"Current balance: ${self.__balance}\")\n",
        "account = BankAccount(100)\n",
        "account.check_balance()\n",
        "\n",
        "account.deposit(50)\n",
        "account.withdraw(30)\n",
        "account.check_balance()\n",
        "\n",
        "\n"
      ],
      "metadata": {
        "colab": {
          "base_uri": "https://localhost:8080/"
        },
        "id": "D4zSxohEOYdy",
        "outputId": "88c69c2f-7de5-4639-e090-b3f73a5b0f95"
      },
      "execution_count": 8,
      "outputs": [
        {
          "output_type": "stream",
          "name": "stdout",
          "text": [
            "Current balance: $100\n",
            "Deposited: $50\n",
            "Withdrawn: $30\n",
            "Current balance: $120\n"
          ]
        }
      ]
    },
    {
      "cell_type": "code",
      "source": [
        " # Demonstrate runtime polymorphism using a method play() in a base class Instrument. Derive classes Guitar and Piano that implement their own version of play().\n",
        "\n",
        "class Instrument:\n",
        "    def play(self):\n",
        "        print(\"Playing an instrument...\")\n",
        "class Guitar(Instrument):\n",
        "    def play(self):\n",
        "        print(\"Strumming the guitar!\")\n",
        "class Piano(Instrument):\n",
        "    def play(self):\n",
        "        print(\"Playing the piano keys!\")\n",
        "def perform_music(instrument):\n",
        "    instrument.play()\n",
        "\n",
        "guitar = Guitar()\n",
        "piano = Piano()\n",
        "perform_music(guitar)\n",
        "perform_music(piano)\n"
      ],
      "metadata": {
        "colab": {
          "base_uri": "https://localhost:8080/"
        },
        "id": "1qt3KMxGPOEw",
        "outputId": "6c5f639c-e46f-4cc8-a098-d19d7a80278b"
      },
      "execution_count": 9,
      "outputs": [
        {
          "output_type": "stream",
          "name": "stdout",
          "text": [
            "Strumming the guitar!\n",
            "Playing the piano keys!\n"
          ]
        }
      ]
    },
    {
      "cell_type": "code",
      "source": [
        "# Create a class MathOperations with a class method add_numbers() to add two numbers and a static method subtract_numbers() to subtract two numbers.\n",
        "\n",
        "class MathOperations:\n",
        "    @classmethod\n",
        "    def add_numbers(cls, x, y):\n",
        "        return x + y\n",
        "\n",
        "    @staticmethod\n",
        "    def subtract_numbers(x, y):\n",
        "        return x - y\n"
      ],
      "metadata": {
        "id": "YhTxG8s5PnFy"
      },
      "execution_count": 12,
      "outputs": []
    },
    {
      "cell_type": "code",
      "source": [
        "# Implement a class Person with a class method to count the total number of persons created.\n",
        "\n",
        "class Person:\n",
        "    count = 0\n",
        "\n",
        "    def __init__(self, name):\n",
        "        self.name = name\n",
        "        Person.count += 1\n",
        "\n",
        "    @classmethod\n",
        "    def get_person_count(cls):\n",
        "        return cls.count\n",
        "\n",
        "\n",
        "person1 = Person(\"Alice\")\n",
        "person2 = Person(\"Bob\")\n",
        "person3 = Person(\"Charlie\")\n",
        "total_persons = Person.get_person_count()\n",
        "print(f\"Total number of persons: {total_persons}\")\n"
      ],
      "metadata": {
        "colab": {
          "base_uri": "https://localhost:8080/"
        },
        "id": "VyLiugGvP8Ua",
        "outputId": "523014f6-3f5e-4ab1-e0ac-ff8afbec9f0d"
      },
      "execution_count": 14,
      "outputs": [
        {
          "output_type": "stream",
          "name": "stdout",
          "text": [
            "Total number of persons: 3\n"
          ]
        }
      ]
    },
    {
      "cell_type": "code",
      "source": [
        " # Write a class Fraction with attributes numerator and denominator. Override the str method to display the fraction as \"numerator/denominator\".\n",
        "\n",
        "class Fraction:\n",
        "    def __init__(self, numerator, denominator):\n",
        "        if denominator == 0:\n",
        "            raise ValueError(\"Denominator cannot be zero.\")\n",
        "        self.numerator = numerator\n",
        "        self.denominator = denominator\n",
        "\n",
        "    def __str__(self):\n",
        "        return f\"{self.numerator}/{self.denominator}\"\n",
        "\n",
        "f1 = Fraction(3, 4)\n",
        "f2 = Fraction(7, 2)\n",
        "\n",
        "print(f1)\n",
        "print(f2)\n"
      ],
      "metadata": {
        "colab": {
          "base_uri": "https://localhost:8080/"
        },
        "id": "4jOO9IjfQiBh",
        "outputId": "963ef016-b9a5-46fb-c57e-0f8c354686f3"
      },
      "execution_count": 19,
      "outputs": [
        {
          "output_type": "stream",
          "name": "stdout",
          "text": [
            "3/4\n",
            "7/2\n"
          ]
        }
      ]
    },
    {
      "cell_type": "code",
      "source": [
        "#  Demonstrate operator overloading by creating a class Vector and overriding the add method to add two vectors\n",
        "\n",
        "class Vector:\n",
        "    def __init__(self, x, y):\n",
        "        self.x = x\n",
        "        self.y = y\n",
        "    def __add__(self, other):\n",
        "        return Vector(self.x + other.x, self.y + other.y)\n",
        "\n",
        "    def __str__(self):\n",
        "        return f\"({self.x}, {self.y})\"\n",
        "\n",
        "v1 = Vector(2, 3)\n",
        "v2 = Vector(4, 5)\n",
        "\n",
        "v3 = v1 + v2\n",
        "print(\"v1 + v2 =\", v3)\n"
      ],
      "metadata": {
        "colab": {
          "base_uri": "https://localhost:8080/"
        },
        "id": "Z3hSjI1ORKIc",
        "outputId": "6f5933ae-a2e9-4b4a-a098-e79c78937af6"
      },
      "execution_count": 21,
      "outputs": [
        {
          "output_type": "stream",
          "name": "stdout",
          "text": [
            "v1 + v2 = (6, 8)\n"
          ]
        }
      ]
    },
    {
      "cell_type": "code",
      "source": [
        "# Create a class Person with attributes name and age. Add a method greet() that prints \"Hello, my name is {name} and I am {age} years old.\"\n",
        "\n",
        "class Person:\n",
        "    def __init__(self, name, age):\n",
        "        self.name = name\n",
        "        self.age = age\n",
        "\n",
        "    def greet(self):\n",
        "        print(f\"Hello, my name is {self.name} and I am {self.age} years old.\")\n",
        "\n",
        "p1 = Person(\"Alice\", 25)\n",
        "p2 = Person(\"Bob\", 30)\n",
        "\n",
        "p1.greet()\n",
        "p2.greet()\n"
      ],
      "metadata": {
        "colab": {
          "base_uri": "https://localhost:8080/"
        },
        "id": "1aoAHc3ERlgs",
        "outputId": "b7ba0072-8ece-4f03-e5ce-a25c0451120c"
      },
      "execution_count": 22,
      "outputs": [
        {
          "output_type": "stream",
          "name": "stdout",
          "text": [
            "Hello, my name is Alice and I am 25 years old.\n",
            "Hello, my name is Bob and I am 30 years old.\n"
          ]
        }
      ]
    },
    {
      "cell_type": "code",
      "source": [
        "# Implement a class Student with attributes name and grades. Create a method average_grade() to compute the average of the grades.\n",
        "\n",
        "class Student:\n",
        "    def __init__(self, name, grades):\n",
        "        self.name = name\n",
        "        self.grades = grades\n",
        "\n",
        "    def average_grade(self):\n",
        "        if not self.grades:\n",
        "            return 0\n",
        "        return sum(self.grades) / len(self.grades)\n"
      ],
      "metadata": {
        "id": "7ke7BS4ZSBBB"
      },
      "execution_count": 24,
      "outputs": []
    },
    {
      "cell_type": "code",
      "source": [
        "#  Create a class Rectangle with methods set_dimensions() to set the dimensions and area() to calculate the  area.\n",
        "\n",
        "class Rectangle:\n",
        "    def __init__(self):\n",
        "        self.width = 0\n",
        "        self.height = 0\n",
        "    def set_dimensions(self, width, height):\n",
        "        self.width = width\n",
        "        self.height = height\n",
        "\n",
        "    def area(self):\n",
        "        return self.width * self.height\n",
        "rect = Rectangle()\n",
        "rect.set_dimensions(5, 10)\n",
        "print(\"Area of rectangle:\", rect.area())\n",
        "\n"
      ],
      "metadata": {
        "colab": {
          "base_uri": "https://localhost:8080/"
        },
        "id": "qpuHSPJXSwCx",
        "outputId": "9268ee60-4021-47a4-d4d8-8c3cd7d86765"
      },
      "execution_count": 26,
      "outputs": [
        {
          "output_type": "stream",
          "name": "stdout",
          "text": [
            "Area of rectangle: 50\n"
          ]
        }
      ]
    },
    {
      "cell_type": "code",
      "source": [
        "# Create a class Employee with a method calculate_salary() that computes the salary based on hours worked and hourly rate. Create a derived class Manager that adds a bonus to the salary.\n",
        "\n",
        "class Employee:\n",
        "    def __init__(self, name, hours_worked, hourly_rate):\n",
        "        self.name = name\n",
        "        self.hours_worked = hours_worked\n",
        "        self.hourly_rate = hourly_rate\n",
        "\n",
        "    def calculate_salary(self):\n",
        "        return self.hours_worked * self.hourly_rate\n",
        "\n",
        "class Manager(Employee):\n",
        "    def __init__(self, name, hours_worked, hourly_rate, bonus):\n",
        "        super().__init__(name, hours_worked, hourly_rate)\n",
        "        self.bonus = bonus\n",
        "\n",
        "    def calculate_salary(self):\n",
        "        base_salary = super().calculate_salary()\n",
        "        return base_salary + self.bonus\n",
        "\n",
        "emp = Employee(\"Alice\", 40, 20)\n",
        "mgr = Manager(\"Bob\", 45, 30, 500)\n",
        "\n",
        "print(f\"{emp.name}'s Salary: ${emp.calculate_salary()}\")\n",
        "print(f\"{mgr.name}'s Salary: ${mgr.calculate_salary()}\")\n"
      ],
      "metadata": {
        "colab": {
          "base_uri": "https://localhost:8080/"
        },
        "id": "fg7dFJNzTVK_",
        "outputId": "d9e1da27-84c4-4414-df6b-4907d9e107f7"
      },
      "execution_count": 27,
      "outputs": [
        {
          "output_type": "stream",
          "name": "stdout",
          "text": [
            "Alice's Salary: $800\n",
            "Bob's Salary: $1850\n"
          ]
        }
      ]
    },
    {
      "cell_type": "code",
      "source": [
        "#  Create a class Product with attributes name, price, and quantity. Implement a method total_price() that calculates the total price of the product.\n",
        "\n",
        "class Product:\n",
        "    def __init__(self, name, price, quantity):\n",
        "        self.name = name\n",
        "        self.price = price\n",
        "        self.quantity = quantity\n",
        "\n",
        "    def total_price(self):\n",
        "        return self.price * self.quantity\n",
        "product1 = Product(\"Laptop\", 750.00, 2)\n",
        "product2 = Product(\"Headphones\", 50.00, 5)\n",
        "\n",
        "print(f\"Total price for {product1.name}: ${product1.total_price()}\")\n",
        "print(f\"Total price for {product2.name}: ${product2.total_price()}\")\n"
      ],
      "metadata": {
        "colab": {
          "base_uri": "https://localhost:8080/"
        },
        "id": "zJxRJ1SWTtgS",
        "outputId": "d5fbf146-e33d-4f45-bfa3-6838b09c83e7"
      },
      "execution_count": 28,
      "outputs": [
        {
          "output_type": "stream",
          "name": "stdout",
          "text": [
            "Total price for Laptop: $1500.0\n",
            "Total price for Headphones: $250.0\n"
          ]
        }
      ]
    },
    {
      "cell_type": "code",
      "source": [
        "# . Create a class Animal with an abstract method sound(). Create two derived classes Cow and Sheep that implement the sound() method.\n",
        "\n",
        "from abc import ABC, abstractmethod\n",
        "\n",
        "class Animal(ABC):\n",
        "\n",
        "    @abstractmethod\n",
        "    def sound(self):\n",
        "        pass\n",
        "\n",
        "class Cow(Animal):\n",
        "    def sound(self):\n",
        "        return \"Moo\"\n",
        "class Sheep(Animal):\n",
        "    def sound(self):\n",
        "        return \"Baa\"\n",
        "cow = Cow()\n",
        "sheep = Sheep()\n",
        "\n",
        "print(\"Cow says:\", cow.sound())\n",
        "print(\"Sheep says:\", sheep.sound())\n"
      ],
      "metadata": {
        "colab": {
          "base_uri": "https://localhost:8080/"
        },
        "id": "FUXFCRkdUCzf",
        "outputId": "d35cbda4-75f8-48dd-af9b-6e7c97bdc293"
      },
      "execution_count": 30,
      "outputs": [
        {
          "output_type": "stream",
          "name": "stdout",
          "text": [
            "Cow says: Moo\n",
            "Sheep says: Baa\n"
          ]
        }
      ]
    },
    {
      "cell_type": "code",
      "source": [
        "#  Create a class Book with attributes title, author, and year_published. Add a method get_book_info() that returns a formatted string with the book's details.\n",
        "\n",
        "class Book:\n",
        "    def __init__(self, title, author, year_published):\n",
        "        self.title = title\n",
        "        self.author = author\n",
        "        self.year_published = year_published\n",
        "\n",
        "    def get_book_info(self):\n",
        "        return f\"'{self.title}' by {self.author} (Published in {self.year_published})\"\n",
        "\n",
        "book1 = Book(\"1984\", \"George Orwell\", 1949)\n",
        "book2 = Book(\"To Kill a Mockingbird\", \"Harper Lee\", 1960)\n",
        "\n",
        "print(book1.get_book_info())\n",
        "print(book2.get_book_info())\n"
      ],
      "metadata": {
        "colab": {
          "base_uri": "https://localhost:8080/"
        },
        "id": "oAROtn9DUYIa",
        "outputId": "817ccec9-9db0-4b1e-a9d0-f08d59de27d2"
      },
      "execution_count": 31,
      "outputs": [
        {
          "output_type": "stream",
          "name": "stdout",
          "text": [
            "'1984' by George Orwell (Published in 1949)\n",
            "'To Kill a Mockingbird' by Harper Lee (Published in 1960)\n"
          ]
        }
      ]
    },
    {
      "cell_type": "code",
      "source": [
        "# Create a class House with attributes address and price. Create a derived class Mansion that adds an attribute number_of_rooms.\n",
        "\n",
        "class House:\n",
        "    def __init__(self, address, price):\n",
        "        self.address = address\n",
        "        self.price = price\n",
        "\n",
        "    def get_info(self):\n",
        "        return f\"Address: {self.address}, Price: ${self.price}\"\n",
        "class House:\n",
        "    def __init__(self, address, price):\n",
        "        self.address = address\n",
        "        self.price = price\n",
        "\n",
        "    def get_info(self):\n",
        "        return f\"Address: {self.address}, Price: ${self.price}\"\n",
        "\n",
        "class Mansion(House):\n",
        "    def __init__(self, address, price, number_of_rooms):\n",
        "        super().__init__(address, price)\n",
        "        self.number_of_rooms = number_of_rooms\n",
        "\n",
        "    def get_info(self):\n",
        "        base_info = super().get_info()\n",
        "        return f\"{base_info}, Number of rooms: {self.number_of_rooms}\"\n",
        "house = House(\"123 Main St\", 250000)\n",
        "mansion = Mansion(\"456 Luxury Lane\", 2000000, 10)\n",
        "\n",
        "print(house.get_info())\n",
        "print(mansion.get_info())\n"
      ],
      "metadata": {
        "colab": {
          "base_uri": "https://localhost:8080/"
        },
        "id": "ktjVxD3XU2DD",
        "outputId": "17b95115-8647-4203-8ca0-f5cabd9029ff"
      },
      "execution_count": 34,
      "outputs": [
        {
          "output_type": "stream",
          "name": "stdout",
          "text": [
            "Address: 123 Main St, Price: $250000\n",
            "Address: 456 Luxury Lane, Price: $2000000, Number of rooms: 10\n"
          ]
        }
      ]
    }
  ]
}